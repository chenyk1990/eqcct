{
 "cells": [
  {
   "cell_type": "code",
   "execution_count": null,
   "id": "1f767c16",
   "metadata": {},
   "outputs": [],
   "source": [
    "for ind in range(1,len(TOWHPATH)):\n",
    "    \n",
    "    if ind %100==0:\n",
    "        print(ind)\n",
    "\n",
    "    ix = TOWHPATH[ind]\n",
    "    dt1 = obspy.UTCDateTime(TOWHTIME[ind])\n",
    "    st = read(ix,starttime=dt1-20, endtime=dt1+100)\n",
    "\n",
    "    \n",
    "    if (st[0].stats.npts>=12000) and (st[1].stats.npts>=12000) and (st[2].stats.npts>=12000):\n",
    "        st2 = st.copy()\n",
    "        st2 = st2.merge(fill_value=0)\n",
    "        st2 = st2.select(station='N.TOWH')\n",
    "\n",
    "\n",
    "\n",
    "        st2[0].stats.station = 'TOWH'\n",
    "        st2[1].stats.station = 'TOWH'\n",
    "        st2[2].stats.station = 'TOWH'\n",
    "\n",
    "        st2[0].stats.channel = 'E'\n",
    "        st2[1].stats.channel = 'N'\n",
    "        st2[2].stats.channel = 'Z'\n",
    "\n",
    "        \n",
    "        st2[0].stats.network = 'J'\n",
    "        st2[1].stats.network = 'J'\n",
    "        st2[2].stats.network = 'J'\n",
    "        \n",
    "        st2[0].stats.location = [0,0,0]\n",
    "        st2[1].stats.location = [0,0,0]\n",
    "        st2[2].stats.location = [0,0,0]\n",
    "\n",
    "        #os.mkdir('./Japan_MSEED/' + str(int(ind)))\n",
    "        st2[0].write('./Japan_MSEED/TOWH/' + st2[0].stats.network + '.'  + st2[0].stats.station + '.' + st2[0].stats.channel + '__' + str(st2[0].stats.starttime) + '__' + str(st2[0].stats.endtime) +'.mseed', format='MSEED')\n",
    "        st2[1].write('./Japan_MSEED/TOWH/' + st2[1].stats.network + '.'  + st2[1].stats.station + '.' + st2[1].stats.channel + '__' + str(st2[1].stats.starttime) + '__' + str(st2[1].stats.endtime) +'.mseed', format='MSEED')\n",
    "        st2[2].write('./Japan_MSEED/TOWH/' + st2[2].stats.network + '.'  + st2[2].stats.station + '.' + st2[2].stats.channel + '__' + str(st2[2].stats.starttime) + '__' + str(st2[2].stats.endtime) +'.mseed', format='MSEED')\n"
   ]
  }
 ],
 "metadata": {
  "kernelspec": {
   "display_name": "tf-gpu-39",
   "language": "python",
   "name": "tf-gpu-39"
  },
  "language_info": {
   "codemirror_mode": {
    "name": "ipython",
    "version": 3
   },
   "file_extension": ".py",
   "mimetype": "text/x-python",
   "name": "python",
   "nbconvert_exporter": "python",
   "pygments_lexer": "ipython3",
   "version": "3.9.12"
  }
 },
 "nbformat": 4,
 "nbformat_minor": 5
}
